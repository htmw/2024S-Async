{
 "cells": [
  {
   "cell_type": "code",
   "execution_count": 14,
   "id": "906c74d9-4b97-46b2-8e65-a986ccac7ede",
   "metadata": {
    "collapsed": true,
    "jupyter": {
     "outputs_hidden": true
    },
    "scrolled": true
   },
   "outputs": [
    {
     "name": "stdout",
     "output_type": "stream",
     "text": [
      "Collecting opencv-python==4.8.0.74\n",
      "  Downloading opencv_python-4.8.0.74-cp37-abi3-win_amd64.whl.metadata (19 kB)\n",
      "Requirement already satisfied: numpy>=1.17.0 in c:\\users\\benja\\appdata\\local\\programs\\python\\python38\\lib\\site-packages (from opencv-python==4.8.0.74) (1.24.3)\n",
      "Downloading opencv_python-4.8.0.74-cp37-abi3-win_amd64.whl (38.1 MB)\n",
      "   ---------------------------------------- 0.0/38.1 MB ? eta -:--:--\n",
      "   ---------------------------------------- 0.3/38.1 MB 5.9 MB/s eta 0:00:07\n",
      "   -- ------------------------------------- 2.6/38.1 MB 23.6 MB/s eta 0:00:02\n",
      "   ---- ----------------------------------- 4.7/38.1 MB 29.9 MB/s eta 0:00:02\n",
      "   ------- -------------------------------- 6.8/38.1 MB 33.3 MB/s eta 0:00:01\n",
      "   --------- ------------------------------ 9.0/38.1 MB 36.0 MB/s eta 0:00:01\n",
      "   ----------- ---------------------------- 11.1/38.1 MB 46.9 MB/s eta 0:00:01\n",
      "   ------------- -------------------------- 13.3/38.1 MB 46.7 MB/s eta 0:00:01\n",
      "   ---------------- ----------------------- 15.4/38.1 MB 46.7 MB/s eta 0:00:01\n",
      "   ------------------ --------------------- 17.6/38.1 MB 46.7 MB/s eta 0:00:01\n",
      "   -------------------- ------------------- 19.7/38.1 MB 46.7 MB/s eta 0:00:01\n",
      "   ---------------------- ----------------- 21.6/38.1 MB 46.7 MB/s eta 0:00:01\n",
      "   ------------------------ --------------- 23.7/38.1 MB 46.7 MB/s eta 0:00:01\n",
      "   --------------------------- ------------ 25.9/38.1 MB 46.9 MB/s eta 0:00:01\n",
      "   ----------------------------- ---------- 28.1/38.1 MB 46.9 MB/s eta 0:00:01\n",
      "   ------------------------------- -------- 30.2/38.1 MB 46.7 MB/s eta 0:00:01\n",
      "   --------------------------------- ------ 32.3/38.1 MB 46.7 MB/s eta 0:00:01\n",
      "   ------------------------------------ --- 34.5/38.1 MB 46.7 MB/s eta 0:00:01\n",
      "   -------------------------------------- - 36.6/38.1 MB 46.7 MB/s eta 0:00:01\n",
      "   ---------------------------------------  38.1/38.1 MB 46.7 MB/s eta 0:00:01\n",
      "   ---------------------------------------- 38.1/38.1 MB 38.4 MB/s eta 0:00:00\n",
      "Installing collected packages: opencv-python\n",
      "  Attempting uninstall: opencv-python\n",
      "    Found existing installation: opencv-python 4.9.0.80\n",
      "    Uninstalling opencv-python-4.9.0.80:\n",
      "      Successfully uninstalled opencv-python-4.9.0.80\n",
      "Successfully installed opencv-python-4.8.0.74\n"
     ]
    }
   ],
   "source": [
    "!pip install opencv-python==4.8.0.74\n"
   ]
  },
  {
   "cell_type": "code",
   "execution_count": 1,
   "id": "b253d9e6-d3c6-42c4-a668-cafa0dd728d6",
   "metadata": {},
   "outputs": [],
   "source": [
    "import cv2\n",
    "import numpy as np\n",
    "import os\n",
    "import yaml\n",
    "from yaml.loader import SafeLoader\n",
    "from tflite_runtime.interpreter import Interpreter\n",
    "from IPython.display import display, Image"
   ]
  },
  {
   "cell_type": "code",
   "execution_count": 2,
   "id": "6374e602-c480-4bb9-a466-b3ed220cb53a",
   "metadata": {},
   "outputs": [
    {
     "name": "stdout",
     "output_type": "stream",
     "text": [
      "['Hello', 'I Love You', 'Thank You', 'Yes', 'No']\n"
     ]
    }
   ],
   "source": [
    "# Load yaml file \n",
    "with open('data.yaml', mode='r') as f:\n",
    "    data_yaml = yaml.load(f, Loader=SafeLoader)\n",
    "\n",
    "labels = data_yaml['names']\n",
    "print(labels)"
   ]
  },
  {
   "cell_type": "code",
   "execution_count": 3,
   "id": "726bf177-555a-4400-adc1-413c67276a4a",
   "metadata": {},
   "outputs": [],
   "source": [
    "# load yolo model\n",
    "yolo = cv2.dnn.readNetFromONNX('./Model2/weights/best.onnx')\n",
    "yolo.setPreferableBackend(cv2.dnn.DNN_BACKEND_OPENCV)\n",
    "yolo.setPreferableTarget(cv2.dnn.DNN_TARGET_CPU)"
   ]
  },
  {
   "cell_type": "code",
   "execution_count": 10,
   "id": "b1ecd51c-9aea-42d4-b588-bfb55d9ccccb",
   "metadata": {},
   "outputs": [],
   "source": [
    "# load img\n",
    "img = cv2.imread('./iloveyoutest.jpg')\n",
    "image = img.copy()\n",
    "row, col, d = image.shape\n",
    "\n",
    "# get yolo prediction from the img\n",
    "max_rc = max(row, col)\n",
    "input_image = np.zeros((max_rc, max_rc, 3), dtype=np.uint8) \n",
    "input_image[0:row, 0:col] = image\n",
    "\n",
    "INPUT_WH_YOLO = 640\n",
    "blob = cv2.dnn.blobFromImage(input_image, 1/255, (INPUT_WH_YOLO, INPUT_WH_YOLO), swapRB=True, crop=False)\n",
    "yolo.setInput(blob)\n",
    "preds = yolo.forward()"
   ]
  },
  {
   "cell_type": "code",
   "execution_count": 12,
   "id": "a4f1b944-f275-4cd5-bfbe-be85b71db5a0",
   "metadata": {},
   "outputs": [
    {
     "name": "stdout",
     "output_type": "stream",
     "text": [
      "(1, 25200, 10)\n"
     ]
    }
   ],
   "source": [
    "print(preds.shape)"
   ]
  },
  {
   "cell_type": "code",
   "execution_count": 22,
   "id": "6f79f4f6-304b-4806-a13a-c6ec9afe2d36",
   "metadata": {},
   "outputs": [],
   "source": [
    "# non-maximum supression\n",
    "# 1.filter detection based on confidence 0.4 and probility score 0.25\n",
    "detections = preds[0]\n",
    "boxes = []\n",
    "confidences = []\n",
    "classes = []\n",
    "\n",
    "# width and height of the image \n",
    "image_w, image_h = input_image.shape[:2]\n",
    "x_factor = image_w / INPUT_WH_YOLO\n",
    "y_factor = image_h / INPUT_WH_YOLO\n",
    "\n",
    "for i in range(len(detections)):\n",
    "    row = detections[i]\n",
    "    confidence = row[4]\n",
    "    if confidence > 0.4:\n",
    "        class_score = row[5:].max()\n",
    "        class_id = row[5:].argmax()\n",
    "\n",
    "        if class_score > 0.25:\n",
    "            cx, cy, w, h = row[0:4]\n",
    "            # construct bounding from 4 values\n",
    "            # left, top, width, and height\n",
    "            left = int((cx - 0.5 * w) * x_factor)\n",
    "            top = int((cy - 0.5 * h) * y_factor)\n",
    "            width = int(w * x_factor)\n",
    "            height = int(h * y_factor)\n",
    "\n",
    "            box = np.array([left, top, width, height])\n",
    "            # append value\n",
    "            confidences.append(confidence)\n",
    "            boxes.append(box)\n",
    "            classes.append(class_id)\n",
    "\n",
    "# clean\n",
    "boxes_np = np.array(boxes).tolist()\n",
    "confidences_np = np.array(confidences).tolist()\n",
    "\n",
    "# NMS\n",
    "index = cv2.dnn.NMSBoxes(boxes_np, confidences_np, 0.25, 0.45).flatten()"
   ]
  },
  {
   "cell_type": "code",
   "execution_count": 23,
   "id": "8cd640c6-e86b-447f-9e88-34e96a67e80e",
   "metadata": {},
   "outputs": [
    {
     "data": {
      "text/plain": [
       "array([ 3, 12])"
      ]
     },
     "execution_count": 23,
     "metadata": {},
     "output_type": "execute_result"
    }
   ],
   "source": [
    "index"
   ]
  },
  {
   "cell_type": "code",
   "execution_count": 30,
   "id": "bf8afc23-b75e-4aaf-8993-c4104d43be12",
   "metadata": {},
   "outputs": [],
   "source": [
    "# draw the bounding box\n",
    "for ind in index:\n",
    "    # extract bounding box\n",
    "    x,y,w,h = boxes_np[ind]\n",
    "    bb_conf = int(confidences_np[ind]*100)\n",
    "    classes_id = classes[ind]\n",
    "    class_name = labels[classes_id]\n",
    "\n",
    "    text = f'{class_name}: {bb_conf}%'\n",
    "\n",
    "    cv2.rectangle(image, (x, y), (x+w, y+h), (0,255,0),2)\n",
    "    cv2.rectangle(image, (x,y-30), (x+w, y), (255,255,255), -1)\n",
    "    cv2.putText(image, text, (x,y-10),cv2.FONT_HERSHEY_PLAIN, 0.7, (0,0,0), 1)\n",
    "    "
   ]
  },
  {
   "cell_type": "code",
   "execution_count": 31,
   "id": "81d1b800-5126-420a-87c1-9ed2c9aecce9",
   "metadata": {},
   "outputs": [],
   "source": [
    "cv2.imshow('original', img)\n",
    "cv2.imshow('yolo_prediction', image)\n",
    "cv2.waitKey(0)\n",
    "cv2.destroyAllWindows()"
   ]
  },
  {
   "cell_type": "code",
   "execution_count": null,
   "id": "b2d65b98-3308-4465-9e63-53fdbe8a2857",
   "metadata": {},
   "outputs": [],
   "source": []
  }
 ],
 "metadata": {
  "kernelspec": {
   "display_name": "Python 3 (ipykernel)",
   "language": "python",
   "name": "python3"
  },
  "language_info": {
   "codemirror_mode": {
    "name": "ipython",
    "version": 3
   },
   "file_extension": ".py",
   "mimetype": "text/x-python",
   "name": "python",
   "nbconvert_exporter": "python",
   "pygments_lexer": "ipython3",
   "version": "3.8.10"
  }
 },
 "nbformat": 4,
 "nbformat_minor": 5
}
