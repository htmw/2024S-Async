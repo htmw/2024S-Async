{
 "cells": [
  {
   "cell_type": "code",
   "execution_count": 7,
   "id": "1ba3ac09-e26c-4b20-b74f-5b5bb3cf162f",
   "metadata": {},
   "outputs": [],
   "source": [
    "import cv2\n",
    "from yolo_predictions import YOLO_Pred"
   ]
  },
  {
   "cell_type": "code",
   "execution_count": 8,
   "id": "5f9d3702-2bc0-4adc-818e-91a12aefaa9d",
   "metadata": {},
   "outputs": [],
   "source": [
    "yolo = YOLO_Pred('./Model2/weights/best.onnx', 'data.yaml')"
   ]
  },
  {
   "cell_type": "code",
   "execution_count": 9,
   "id": "0f65b2a4-c138-4e57-9149-a4a9d99e25d3",
   "metadata": {},
   "outputs": [],
   "source": [
    "img = cv2.imread('./iloveyoutest.jpg')\n",
    "cv2.imshow('img', img)\n",
    "cv2.waitKey(0)\n",
    "cv2.destroyAllWindows()"
   ]
  },
  {
   "cell_type": "code",
   "execution_count": 10,
   "id": "7846ca39-6cad-4b8c-9251-347fb96073cf",
   "metadata": {},
   "outputs": [],
   "source": [
    "# predictions\n",
    "img_pred = yolo.predictions(img)\n",
    "cv2.imshow('prediction_img', img_pred)\n",
    "cv2.waitKey(0)\n",
    "cv2.destroyAllWindows()"
   ]
  },
  {
   "cell_type": "code",
   "execution_count": 15,
   "id": "fec2e0d8-6c64-4ef2-a7c1-7c9f85f84cf0",
   "metadata": {},
   "outputs": [],
   "source": [
    "# real time detection\n",
    "cap = cv2.VideoCapture(0)\n",
    "while cap.isOpened():\n",
    "    ret, frame = cap.read()\n",
    "    if ret == False:\n",
    "        print('unable to read video')\n",
    "        break;\n",
    "\n",
    "    pred_image =  yolo.predictions(frame)\n",
    "    \n",
    "    cv2.imshow('result', pred_image)\n",
    "    if(cv2.waitKey(10) & 0xFF == ord('q')):\n",
    "        break\n",
    "\n",
    "cap.release()\n",
    "cv2.destroyAllWindows() "
   ]
  },
  {
   "cell_type": "code",
   "execution_count": null,
   "id": "611a3a75-3957-4b1e-9016-0090ec8dbe6b",
   "metadata": {},
   "outputs": [],
   "source": []
  }
 ],
 "metadata": {
  "kernelspec": {
   "display_name": "Python 3 (ipykernel)",
   "language": "python",
   "name": "python3"
  },
  "language_info": {
   "codemirror_mode": {
    "name": "ipython",
    "version": 3
   },
   "file_extension": ".py",
   "mimetype": "text/x-python",
   "name": "python",
   "nbconvert_exporter": "python",
   "pygments_lexer": "ipython3",
   "version": "3.8.10"
  }
 },
 "nbformat": 4,
 "nbformat_minor": 5
}
